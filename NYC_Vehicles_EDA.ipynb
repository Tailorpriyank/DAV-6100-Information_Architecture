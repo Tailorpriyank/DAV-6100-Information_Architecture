{
 "cells": [
  {
   "cell_type": "code",
   "execution_count": 1,
   "id": "b79c3e72",
   "metadata": {},
   "outputs": [],
   "source": [
    "import warnings\n",
    "warnings.filterwarnings('ignore')\n",
    "\n",
    "import pandas as pd\n",
    "import numpy as np\n",
    "import matplotlib.pyplot as plt\n",
    "## import dtale\n",
    "pd.set_option('display.max_columns', None)\n",
    "\n",
    "# import module\n",
    "from geopy.geocoders import Nominatim\n",
    "\n",
    "# initialize Nominatim API \n",
    "geolocator = Nominatim(user_agent=\"GetLoc\")\n",
    "\n",
    "import seaborn as sns\n",
    "import matplotlib.pyplot as plt\n",
    "\n",
    "from wordcloud import WordCloud"
   ]
  },
  {
   "cell_type": "code",
   "execution_count": 2,
   "id": "cbf5c164",
   "metadata": {},
   "outputs": [
    {
     "data": {
      "text/plain": [
       "('01/01/2013', '12/31/2022')"
      ]
     },
     "execution_count": 2,
     "metadata": {},
     "output_type": "execute_result"
    }
   ],
   "source": [
    "Crash_df = pd.read_csv(r\"Data\\Motor_Vehicle_Collisions_-_Crashes_20231209.csv\")\n",
    "\n",
    "Crash_df = Crash_df[['COLLISION_ID','CRASH DATE', 'CRASH TIME', 'BOROUGH', 'ZIP CODE', 'LATITUDE',\n",
    "       'LONGITUDE', 'LOCATION', 'ON STREET NAME', 'CROSS STREET NAME',\n",
    "       'OFF STREET NAME', 'NUMBER OF PERSONS INJURED',\n",
    "       'NUMBER OF PERSONS KILLED', 'NUMBER OF PEDESTRIANS INJURED',\n",
    "       'NUMBER OF PEDESTRIANS KILLED', 'NUMBER OF CYCLIST INJURED',\n",
    "       'NUMBER OF CYCLIST KILLED', 'NUMBER OF MOTORIST INJURED',\n",
    "       'NUMBER OF MOTORIST KILLED', 'CONTRIBUTING FACTOR VEHICLE 1',\n",
    "       'CONTRIBUTING FACTOR VEHICLE 2', 'CONTRIBUTING FACTOR VEHICLE 3',\n",
    "       'CONTRIBUTING FACTOR VEHICLE 4', 'CONTRIBUTING FACTOR VEHICLE 5',\n",
    "        'VEHICLE TYPE CODE 1', 'VEHICLE TYPE CODE 2',\n",
    "       'VEHICLE TYPE CODE 3', 'VEHICLE TYPE CODE 4', 'VEHICLE TYPE CODE 5']]\n",
    "\n",
    "\n",
    "Crash_df['CRASH DATE'].min(), Crash_df['CRASH DATE'].max()"
   ]
  },
  {
   "cell_type": "code",
   "execution_count": null,
   "id": "c314dcad",
   "metadata": {},
   "outputs": [],
   "source": [
    "###### Consider only from 2020 Year\n",
    "Crash_df = Crash_df[pd.to_datetime(Crash_df['CRASH DATE']) >= '2020-01-01'].reset_index(drop=True)\n",
    "\n",
    "\n",
    "Crash_df.head(2)"
   ]
  },
  {
   "cell_type": "code",
   "execution_count": null,
   "id": "33978651",
   "metadata": {},
   "outputs": [],
   "source": [
    "Vehicle_df = pd.read_csv(r\"Data/Motor_Vehicle_Collisions_-_Vehicles_20231209.csv\")\n",
    "\n",
    "\n",
    "Vehicle_df.head(2)"
   ]
  },
  {
   "cell_type": "code",
   "execution_count": null,
   "id": "087307cd",
   "metadata": {},
   "outputs": [],
   "source": [
    "Vehicle_df['COLLISION_ID'].nunique(), len(Vehicle_df)"
   ]
  },
  {
   "cell_type": "code",
   "execution_count": null,
   "id": "84621a34",
   "metadata": {},
   "outputs": [],
   "source": [
    "####### Considering only Collisions matching\n",
    "\n",
    "Vehicle_df = Vehicle_df[Vehicle_df['COLLISION_ID'].isin(list(Crash_df['COLLISION_ID'].unique()))].reset_index(drop=True)\n",
    "Vehicle_df.head(2)"
   ]
  },
  {
   "cell_type": "code",
   "execution_count": null,
   "id": "8634f2aa",
   "metadata": {},
   "outputs": [],
   "source": [
    "Vehicle_df['COLLISION_ID'].nunique(), len(Vehicle_df)"
   ]
  },
  {
   "cell_type": "code",
   "execution_count": null,
   "id": "468ca87a",
   "metadata": {},
   "outputs": [],
   "source": []
  }
 ],
 "metadata": {
  "kernelspec": {
   "display_name": "Python 3 (ipykernel)",
   "language": "python",
   "name": "python3"
  },
  "language_info": {
   "codemirror_mode": {
    "name": "ipython",
    "version": 3
   },
   "file_extension": ".py",
   "mimetype": "text/x-python",
   "name": "python",
   "nbconvert_exporter": "python",
   "pygments_lexer": "ipython3",
   "version": "3.9.16"
  }
 },
 "nbformat": 4,
 "nbformat_minor": 5
}
